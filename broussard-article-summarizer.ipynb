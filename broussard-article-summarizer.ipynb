{
 "cells": [
  {
   "cell_type": "markdown",
   "id": "e806cc70-1d5f-4ffa-94f2-eab5b3b193c0",
   "metadata": {},
   "source": [
    "# Web Mining and Applied NLP (44-620)\n",
    "## Final Project: Article Summarizer\n",
    "### Student Name: Kersha Broussard"
   ]
  },
  {
   "cell_type": "markdown",
   "id": "c6492102-7c31-42db-8833-931cb1ba1059",
   "metadata": {},
   "source": [
    "Perform the tasks described in the Markdown cells below. When you have completed the assignment make sure your code cells have all been run (and have output beneath them) and ensure you have committed and pushed ALL of your changes to your assignment repository.\n",
    "\n",
    "You should bring in code from previous assignments to help you answer the questions below.\n",
    "\n",
    "Every question that requires you to write code will have a code cell underneath it; you may either write your entire solution in that cell or write it in a python file (.py), then import and run the appropriate code to answer the question.\n",
    "\n",
    "### 1. Find on the internet an article or blog post about a topic that interests you and you are able to get the text for using the technologies we have applied in the course. Get the html for the article and store it in a file (which you must submit with your project)"
   ]
  },
  {
   "cell_type": "code",
   "execution_count": 1,
   "id": "38f07c45-ecef-4791-81c0-b1b6463fb626",
   "metadata": {},
   "outputs": [
    {
     "name": "stdout",
     "output_type": "stream",
     "text": [
      "Package            Version\n",
      "------------------ -----------\n",
      "annotated-types    0.7.0\n",
      "beautifulsoup4     4.13.4\n",
      "blis               1.3.0\n",
      "catalogue          2.0.10\n",
      "certifi            2025.7.14\n",
      "charset-normalizer 3.4.2\n",
      "click              8.2.1\n",
      "cloudpathlib       0.21.1\n",
      "colorama           0.4.6\n",
      "confection         0.1.5\n",
      "cymem              2.0.11\n",
      "html5lib           1.1\n",
      "idna               3.10\n",
      "Jinja2             3.1.6\n",
      "joblib             1.5.1\n",
      "langcodes          3.5.0\n",
      "language_data      1.3.0\n",
      "marisa-trie        1.2.1\n",
      "markdown-it-py     3.0.0\n",
      "MarkupSafe         3.0.2\n",
      "mdurl              0.1.2\n",
      "murmurhash         1.0.13\n",
      "nltk               3.9.1\n",
      "numpy              2.3.1\n",
      "packaging          25.0\n",
      "pip                25.1.1\n",
      "preshed            3.0.10\n",
      "pydantic           2.11.7\n",
      "pydantic_core      2.33.2\n",
      "Pygments           2.19.2\n",
      "regex              2024.11.6\n",
      "requests           2.32.4\n",
      "rich               14.0.0\n",
      "setuptools         65.5.0\n",
      "shellingham        1.5.4\n",
      "six                1.17.0\n",
      "smart_open         7.3.0.post1\n",
      "soupsieve          2.7\n",
      "spacy              3.8.7\n",
      "spacy-legacy       3.0.12\n",
      "spacy-loggers      1.0.5\n",
      "spacytextblob      5.0.0\n",
      "srsly              2.5.1\n",
      "textblob           0.19.0\n",
      "thinc              8.3.6\n",
      "tqdm               4.67.1\n",
      "typer              0.16.0\n",
      "typing_extensions  4.14.1\n",
      "typing-inspection  0.4.1\n",
      "urllib3            2.5.0\n",
      "wasabi             1.1.3\n",
      "weasel             0.4.1\n",
      "webencodings       0.5.1\n",
      "wrapt              1.17.2\n",
      "All prereqs installed.\n"
     ]
    }
   ],
   "source": [
    "from collections import Counter\n",
    "import pickle\n",
    "import requests\n",
    "import spacy\n",
    "from bs4 import BeautifulSoup\n",
    "import matplotlib.pyplot as plt\n",
    "\n",
    "\n",
    "!pip list\n",
    "\n",
    "print('All prereqs installed.')"
   ]
  },
  {
   "cell_type": "markdown",
   "id": "afb082e5-a70b-4e7e-82ff-2e1a69bbe563",
   "metadata": {},
   "source": []
  },
  {
   "cell_type": "code",
   "execution_count": 2,
   "id": "af4e6159-664f-4423-846a-2c434b854514",
   "metadata": {},
   "outputs": [
    {
     "name": "stdout",
     "output_type": "stream",
     "text": [
      "Mental healthencompassesemotional,psychological, andsocialwell-being, influencingcognition,perception, andbehavior. Mental health plays a crucial role in an individual's daily life when managingstress, engaging with others, and contributing to life overall. According to theWorld Health Organization (WHO), it is a \"state of well-being in which the individual realizes his or her abilities, cancopewith the normalstressesof life, canworkproductively and fruitfully, and can contribute to his or her community\".[1]It likewise determines how an individual handlesstress,interpersonal relationships, anddecision-making.[2]Mental health includes subjective well-being, perceivedself-efficacy,autonomy, competence, intergenerational dependence, andself-actualizationof one'sintellectualand emotional potential, among others.[3]\n",
      "From the perspectives ofpositive psychologyorholism, mental health is thus not merely the absence ofmental illness. Rather, it is a broader state of well-being that includes an individual's ability to enjoy life and to create a balance between life activities and efforts to achievepsychological resilience.[4][5]Cultural differences, personal philosophy, subjective assessments, and competing professional theories all affect how one defines \"mental health\".[6]Some earlysignsrelated to mental health difficulties aresleep irritation,lack of energy,lack of appetite, thinking ofharming oneselfor others,self-isolating(thoughintroversionand isolation are not necessarily unheal\n"
     ]
    }
   ],
   "source": [
    "from bs4 import BeautifulSoup\n",
    "\n",
    "with open(\"mental_health_wiki.html\", \"r\", encoding=\"utf-8\") as f:\n",
    "    html = f.read()\n",
    "\n",
    "soup = BeautifulSoup(html, \"html.parser\")\n",
    "\n",
    "# Extract all paragraphs\n",
    "paragraphs = soup.select(\"div.mw-parser-output > p\")\n",
    "text = \"\\n\".join(p.get_text(strip=True) for p in paragraphs if p.get_text(strip=True))\n",
    "\n",
    "print(text[:1500])  # Just show first 1500 chars\n"
   ]
  },
  {
   "cell_type": "markdown",
   "id": "6109e077-39a2-4c4a-aadd-fb2035d35b69",
   "metadata": {},
   "source": [
    "### 2. Read in your article's html source from the file you created in question 1 and do sentiment analysis on the article/post's text (use .get_text()). Print the polarity score with an appropriate label. Additionally print the number of sentences in the original article (with an appropriate label)"
   ]
  },
  {
   "cell_type": "code",
   "execution_count": 3,
   "id": "2fff725d-46c1-4798-a94a-a21c52714743",
   "metadata": {},
   "outputs": [
    {
     "name": "stdout",
     "output_type": "stream",
     "text": [
      "['tok2vec', 'tagger', 'parser', 'attribute_ruler', 'lemmatizer', 'ner', 'spacytextblob']\n"
     ]
    }
   ],
   "source": [
    "# Install only if needed\n",
    "# !pip install spacy spacytextblob -q\n",
    "\n",
    "import spacy\n",
    "from spacytextblob.spacytextblob import SpacyTextBlob\n",
    "\n",
    "# Load English model\n",
    "nlp = spacy.load(\"en_core_web_sm\")\n",
    "\n",
    "# Remove any conflicting pipelines\n",
    "if \"spacytextblob\" in nlp.pipe_names:\n",
    "    nlp.remove_pipe(\"spacytextblob\")\n",
    "\n",
    "# Add spacytextblob back cleanly\n",
    "nlp.add_pipe(\"spacytextblob\")\n",
    "\n",
    "# Confirm it's added\n",
    "print(nlp.pipe_names)\n"
   ]
  },
  {
   "cell_type": "markdown",
   "id": "4a43b6dc-953b-4df0-b338-f2c97705b505",
   "metadata": {},
   "source": [
    "#### Fetch & Save Mental Health Wikipedia Article"
   ]
  },
  {
   "cell_type": "code",
   "execution_count": 4,
   "id": "f3b77861-46ff-458e-a588-de74f56eff4f",
   "metadata": {},
   "outputs": [
    {
     "name": "stdout",
     "output_type": "stream",
     "text": [
      "✅ HTML content saved to mental_health_article.pkl\n"
     ]
    }
   ],
   "source": [
    "import requests\n",
    "import pickle\n",
    "\n",
    "# URL of the Mental Health Wikipedia article\n",
    "url = \"https://en.wikipedia.org/wiki/Mental_health\"\n",
    "\n",
    "# Fetch the article HTML\n",
    "response = requests.get(url)\n",
    "html_content = response.text\n",
    "\n",
    "# Save the HTML to a pickle file\n",
    "with open(\"mental_health_article.pkl\", \"wb\") as file:\n",
    "    pickle.dump(html_content, file)\n",
    "\n",
    "print(\"✅ HTML content saved to mental_health_article.pkl\")\n"
   ]
  },
  {
   "cell_type": "markdown",
   "id": "f731e471-2df9-4afd-bd31-06d30f3ca927",
   "metadata": {},
   "source": [
    "#### Save as .html File"
   ]
  },
  {
   "cell_type": "code",
   "execution_count": 5,
   "id": "cc0b298f-8da2-4d9c-8786-e009300c799c",
   "metadata": {},
   "outputs": [
    {
     "name": "stdout",
     "output_type": "stream",
     "text": [
      "✅ HTML content saved to mental_health_article.html\n"
     ]
    }
   ],
   "source": [
    "# Save the HTML to a readable .html file\n",
    "with open(\"mental_health_article.html\", \"w\", encoding=\"utf-8\") as file:\n",
    "    file.write(html_content)\n",
    "\n",
    "print(\"✅ HTML content saved to mental_health_article.html\")\n"
   ]
  },
  {
   "cell_type": "markdown",
   "id": "e9beb314-060d-4450-a9f9-1cc13dd31e99",
   "metadata": {},
   "source": [
    "#### Load and Parse the Saved HTML"
   ]
  },
  {
   "cell_type": "code",
   "execution_count": 6,
   "id": "6797f50d-c1da-42ab-bee3-4da4eac84ccc",
   "metadata": {},
   "outputs": [
    {
     "name": "stdout",
     "output_type": "stream",
     "text": [
      "Mental healthencompassesemotional,psychological, andsocialwell-being, influencingcognition,perception, andbehavior.[1]Mental health plays a crucial role in an individual's daily life when managingstress, engaging with others, and contributing to life overall. According to theWorld Health Organization (WHO), it is a \"state of well-being in which the individual realizes his or her abilities, cancopewith the normalstressesof life, canworkproductively and fruitfully, and can contribute to his or her community\".[2]It likewise determines how an individual handlesstress,interpersonal relationships, anddecision-making.[3]Mental health includes subjective well-being, perceivedself-efficacy,autonomy, competence, intergenerational dependence, andself-actualizationof one'sintellectualand emotional potential, among others.[4]\n",
      "From the perspectives ofpositive psychologyorholism, mental health is thus not merely the absence ofmental illness. Rather, it is a broader state of well-being that includes a\n"
     ]
    }
   ],
   "source": [
    "from bs4 import BeautifulSoup\n",
    "\n",
    "# Load the saved HTML file\n",
    "with open(\"mental_health_article.html\", \"r\", encoding=\"utf-8\") as file:\n",
    "    html = file.read()\n",
    "\n",
    "# Parse the HTML\n",
    "soup = BeautifulSoup(html, \"html.parser\")\n",
    "\n",
    "# Select main content paragraphs from Wikipedia\n",
    "paragraphs = soup.select(\"div.mw-parser-output > p\")\n",
    "text = \"\\n\".join(p.get_text(strip=True) for p in paragraphs if p.get_text(strip=True))\n",
    "\n",
    "# Print the first 1000 characters to confirm\n",
    "print(text[:1000])\n"
   ]
  },
  {
   "cell_type": "markdown",
   "id": "1720e0b2-39a1-49d0-8e42-e14801783208",
   "metadata": {},
   "source": [
    "#### Check Sentence Count"
   ]
  },
  {
   "cell_type": "code",
   "execution_count": 7,
   "id": "d28ee92d-4a3a-4e61-bced-c3a0c5e24752",
   "metadata": {},
   "outputs": [
    {
     "name": "stdout",
     "output_type": "stream",
     "text": [
      "Number of Sentences: 221\n"
     ]
    }
   ],
   "source": [
    "import spacy\n",
    "\n",
    "# Load English model\n",
    "nlp = spacy.load(\"en_core_web_sm\")\n",
    "\n",
    "# Process the text\n",
    "doc = nlp(text)\n",
    "\n",
    "# Count and print sentence count\n",
    "sentences = list(doc.sents)\n",
    "print(f\"Number of Sentences: {len(sentences)}\")\n"
   ]
  },
  {
   "cell_type": "code",
   "execution_count": 8,
   "id": "032f960f-5c21-4322-ba87-9a594e75b367",
   "metadata": {},
   "outputs": [
    {
     "name": "stderr",
     "output_type": "stream",
     "text": [
      "[nltk_data] Downloading package punkt to\n",
      "[nltk_data]     C:\\Users\\kbrou\\AppData\\Roaming\\nltk_data...\n",
      "[nltk_data]   Package punkt is already up-to-date!\n"
     ]
    },
    {
     "data": {
      "text/plain": [
       "True"
      ]
     },
     "execution_count": 8,
     "metadata": {},
     "output_type": "execute_result"
    }
   ],
   "source": [
    "import nltk\n",
    "nltk.download('punkt')\n"
   ]
  },
  {
   "cell_type": "code",
   "execution_count": 9,
   "id": "7ce72f2a-0898-4b0f-b83a-983be9cfc6df",
   "metadata": {},
   "outputs": [],
   "source": [
    "from bs4 import BeautifulSoup\n",
    "\n",
    "# Load and parse the HTML file\n",
    "with open(\"mental_health_wiki.html\", \"r\", encoding=\"utf-8\") as file:\n",
    "    html = file.read()\n",
    "\n",
    "soup = BeautifulSoup(html, \"html.parser\")\n",
    "paragraphs = soup.select(\"div.mw-parser-output > p\")\n",
    "article_text = \"\\n\".join(p.get_text(strip=True) for p in paragraphs if p.get_text(strip=True))\n"
   ]
  },
  {
   "cell_type": "markdown",
   "id": "b9e9f924-796b-4826-9515-44730ac7edb5",
   "metadata": {},
   "source": [
    "## 3. Load the article text into a trained spaCy pipeline, and determine the 5 most frequent tokens (converted to lower case). Print the common tokens with an appropriate label. Additionally, print the tokens their frequencies (with appropriate labels)"
   ]
  },
  {
   "cell_type": "code",
   "execution_count": 10,
   "id": "7b71ac0d-4cbc-4862-a271-a9a5d4cd2fb5",
   "metadata": {},
   "outputs": [
    {
     "name": "stdout",
     "output_type": "stream",
     "text": [
      "Top 5 most frequent tokens (lowercase, filtered):\n",
      "mental: 254\n",
      "health: 200\n",
      "care: 44\n",
      "social: 42\n",
      "people: 35\n"
     ]
    }
   ],
   "source": [
    "import spacy\n",
    "from collections import Counter\n",
    "\n",
    "# Load spaCy English model\n",
    "nlp = spacy.load(\"en_core_web_sm\")\n",
    "\n",
    "# Process the article\n",
    "doc = nlp(article_text)\n",
    "\n",
    "# Filter and lowercase tokens\n",
    "tokens = [\n",
    "    token.text.lower()\n",
    "    for token in doc\n",
    "    if not token.is_stop and not token.is_punct and not token.is_space\n",
    "]\n",
    "\n",
    "# Count and display top 5 frequent tokens\n",
    "token_freq = Counter(tokens)\n",
    "most_common_tokens = token_freq.most_common(5)\n",
    "\n",
    "print(\"Top 5 most frequent tokens (lowercase, filtered):\")\n",
    "for token, freq in most_common_tokens:\n",
    "    print(f\"{token}: {freq}\")\n"
   ]
  },
  {
   "cell_type": "markdown",
   "id": "fcc89323-ae4a-4cda-b21f-83a82fea4cfd",
   "metadata": {},
   "source": [
    "## 4. Load the article text into a trained spaCy pipeline, and determine the 5 most frequent lemmas (converted to lower case). Print the common lemmas with an appropriate label. Additionally, print the lemmas with their frequencies (with appropriate labels)."
   ]
  },
  {
   "cell_type": "code",
   "execution_count": 17,
   "id": "c8b99a01-8dbd-4fce-be0e-f9bb7e174271",
   "metadata": {},
   "outputs": [
    {
     "name": "stdout",
     "output_type": "stream",
     "text": [
      "Top 5 most frequent lemmas (lowercase, filtered):\n",
      "mental: 254\n",
      "health: 200\n",
      "care: 44\n",
      "social: 42\n",
      "treatment: 38\n"
     ]
    }
   ],
   "source": [
    "import spacy\n",
    "from collections import Counter\n",
    "\n",
    "# Load spaCy English model\n",
    "nlp = spacy.load(\"en_core_web_sm\")\n",
    "\n",
    "# Process the article\n",
    "doc = nlp(article_text)\n",
    "\n",
    "# Filter and lowercase lemmas\n",
    "lemmas = [\n",
    "    token.lemma_.lower()\n",
    "    for token in doc\n",
    "    if not token.is_stop and not token.is_punct and not token.is_space\n",
    "]\n",
    "\n",
    "# Count and display top 5 frequent lemmas\n",
    "lemma_freq = Counter(lemmas)\n",
    "most_common_lemmas = lemma_freq.most_common(5)\n",
    "\n",
    "print(\"Top 5 most frequent lemmas (lowercase, filtered):\")\n",
    "for lemma, freq in most_common_lemmas:\n",
    "    print(f\"{lemma}: {freq}\")\n"
   ]
  },
  {
   "cell_type": "code",
   "execution_count": 12,
   "id": "04bce73e-d29f-45fd-ab9d-08f73f3c61ec",
   "metadata": {},
   "outputs": [],
   "source": [
    "def score_sentence_by_token(sentence, interesting_tokens):\n",
    "    doc_sent = nlp(sentence)\n",
    "    words = [token.text.lower() for token in doc_sent if token.is_alpha]\n",
    "    if not words:\n",
    "        return 0\n",
    "    count = sum(1 for word in words if word in interesting_tokens)\n",
    "    return count / len(words)\n",
    "\n",
    "def score_sentence_by_lemma(sentence, interesting_lemmas):\n",
    "    doc_sent = nlp(sentence)\n",
    "    lemmas = [token.lemma_.lower() for token in doc_sent if token.is_alpha]\n",
    "    if not lemmas:\n",
    "        return 0\n",
    "    count = sum(1 for lemma in lemmas if lemma in interesting_lemmas)\n",
    "    return count / len(lemmas)\n"
   ]
  },
  {
   "cell_type": "markdown",
   "id": "a89a17af-f4d1-4871-a958-c7e08b16aed8",
   "metadata": {},
   "source": [
    "### * Get First Sentence + Most Frequent Tokens & Lemmas"
   ]
  },
  {
   "cell_type": "code",
   "execution_count": 13,
   "id": "5bab841b-c09b-417d-bbe0-fdf122db5ed9",
   "metadata": {},
   "outputs": [],
   "source": [
    "from collections import Counter\n",
    "\n",
    "# Filter tokens and lemmas\n",
    "filtered_tokens = [\n",
    "    token.text.lower()\n",
    "    for token in doc\n",
    "    if not token.is_stop and not token.is_punct and token.is_alpha\n",
    "]\n",
    "\n",
    "filtered_lemmas = [\n",
    "    token.lemma_.lower()\n",
    "    for token in doc\n",
    "    if not token.is_stop and not token.is_punct and token.is_alpha\n",
    "]\n",
    "\n",
    "# Top 5\n",
    "most_common_tokens = Counter(filtered_tokens).most_common(5)\n",
    "most_common_lemmas = Counter(filtered_lemmas).most_common(5)\n",
    "\n",
    "interesting_tokens = [token for token, _ in most_common_tokens]\n",
    "interesting_lemmas = [lemma for lemma, _ in most_common_lemmas]\n"
   ]
  },
  {
   "cell_type": "markdown",
   "id": "2b0e9781-c3ed-464e-a9c2-105eda4a9623",
   "metadata": {},
   "source": [
    "### * Test"
   ]
  },
  {
   "cell_type": "code",
   "execution_count": 14,
   "id": "99d4d0ad-a339-46d3-8e9e-94698efa56f6",
   "metadata": {},
   "outputs": [
    {
     "name": "stdout",
     "output_type": "stream",
     "text": [
      "Token-based score: 0.125\n",
      "Lemma-based score: 0.125\n"
     ]
    }
   ],
   "source": [
    "first_sentence = list(doc.sents)[0].text\n",
    "\n",
    "print(\"Token-based score:\", score_sentence_by_token(first_sentence, interesting_tokens))\n",
    "print(\"Lemma-based score:\", score_sentence_by_lemma(first_sentence, interesting_lemmas))\n"
   ]
  },
  {
   "cell_type": "markdown",
   "id": "5b710788-c766-4da5-b10f-871d87cb3a99",
   "metadata": {},
   "source": [
    "## 5. Make a list containing the scores (using tokens) of every sentence in the article, and plot a histogram with appropriate titles and axis labels of the scores. From your histogram, what seems to be the most common range of scores (put the answer in a comment after your code)?"
   ]
  },
  {
   "cell_type": "markdown",
   "id": "933340b7-4726-4aa3-81a7-4be17b20b45e",
   "metadata": {},
   "source": [
    "### * Histogram of Sentence Scores (Token)"
   ]
  },
  {
   "cell_type": "code",
   "execution_count": 15,
   "id": "717ec717-cebf-42c0-8b61-475e6ad0b148",
   "metadata": {},
   "outputs": [
    {
     "data": {
      "image/png": "[encoded data removed]",
      "text/plain": [
       "<Figure size 1000x600 with 1 Axes>"
      ]
     },
     "metadata": {},
     "output_type": "display_data"
    }
   ],
   "source": [
    "import matplotlib.pyplot as plt\n",
    "\n",
    "# Token score for all sentences\n",
    "token_scores = [score_sentence_by_token(sent.text, interesting_tokens) for sent in doc.sents]\n",
    "\n",
    "plt.figure(figsize=(10,6))\n",
    "plt.hist(token_scores, bins=10, edgecolor='black')\n",
    "plt.title(\"Histogram of Sentence Scores (Token-based)\")\n",
    "plt.xlabel(\"Score\")\n",
    "plt.ylabel(\"Number of Sentences\")\n",
    "plt.grid(True)\n",
    "plt.show()\n",
    "\n"
   ]
  },
  {
   "cell_type": "markdown",
   "id": "d4cee2ac-54d3-4543-8dfa-45f2c0cfe699",
   "metadata": {},
   "source": [
    "## 6. Make a list containing the scores (using lemmas) of every sentence in the article, and plot a histogram with appropriate titles and axis labels of the scores. From your histogram, what seems to be the most common range of scores (put the answer in a comment after your code)?"
   ]
  },
  {
   "cell_type": "markdown",
   "id": "11a3095c-9aa8-47aa-9535-f033581abeba",
   "metadata": {},
   "source": [
    "### * Lemma-Based Sentence Scoring Histogram"
   ]
  },
  {
   "cell_type": "code",
   "execution_count": 16,
   "id": "36bca3ab-6fd9-491e-9509-ca1d79e60d4b",
   "metadata": {},
   "outputs": [
    {
     "data": {
      "image/png": "[encoded data removed]",
      "text/plain": [
       "<Figure size 1000x600 with 1 Axes>"
      ]
     },
     "metadata": {},
     "output_type": "display_data"
    }
   ],
   "source": [
    "# Lemma score for all sentences\n",
    "lemma_scores = [score_sentence_by_lemma(sent.text, interesting_lemmas) for sent in doc.sents]\n",
    "\n",
    "plt.figure(figsize=(10,6))\n",
    "plt.hist(lemma_scores, bins=10, edgecolor='black')\n",
    "plt.title(\"Histogram of Sentence Scores (Lemma-based)\")\n",
    "plt.xlabel(\"Score\")\n",
    "plt.ylabel(\"Number of Sentences\")\n",
    "plt.grid(True)\n",
    "plt.show()"
   ]
  },
  {
   "cell_type": "markdown",
   "id": "efea657a-18be-4392-9b49-aaac60600768",
   "metadata": {},
   "source": [
    "## 7. Using the histograms from questions 5 and 6, decide a \"cutoff\" score for tokens and lemmas such that fewer than half the sentences would have a score greater than the cutoff score. Record the scores in this Markdown cell\n",
    "Cutoff Score (tokens):\n",
    "Cutoff Score (lemmas):\n",
    "Feel free to change these scores as you generate your summaries. Ideally, we're shooting for at least 6 sentences for our summary, but don't want more than 10 (these numbers are rough estimates; they depend on the length of your article)."
   ]
  },
  {
   "cell_type": "code",
   "execution_count": 18,
   "id": "836a8c0d-f902-449b-a478-d18a6938a0ad",
   "metadata": {},
   "outputs": [
    {
     "name": "stdout",
     "output_type": "stream",
     "text": [
      "Suggested Token Cutoff Score: 0.1111111111111111\n",
      "Suggested Lemma Cutoff Score: 0.11764705882352941\n"
     ]
    }
   ],
   "source": [
    "import numpy as np\n",
    "\n",
    "# token_scores and lemma_scores from Q5 and Q6\n",
    "cutoff_token = np.percentile(token_scores, 75)  # top 25% most interesting sentences\n",
    "cutoff_lemma = np.percentile(lemma_scores, 75)\n",
    "\n",
    "print(\"Suggested Token Cutoff Score:\", cutoff_token)\n",
    "print(\"Suggested Lemma Cutoff Score:\", cutoff_lemma)\n",
    "\n"
   ]
  },
  {
   "cell_type": "markdown",
   "id": "c4a11233-f1ba-437c-a090-f2c78a4ac280",
   "metadata": {},
   "source": [
    "## 8. Create a summary of the article by going through every sentence in the article and adding it to an (initially) empty list if its score (based on tokens) is greater than the cutoff score you identified in question 8. If your loop variable is named sent, you may find it easier to add sent.text.strip() to your list of sentences. Print the summary (I would cleanly generate the summary text by joining the strings in your list together with a space (' '.join(sentence_list))."
   ]
  },
  {
   "cell_type": "code",
   "execution_count": 19,
   "id": "a5710ae0-d81c-46fd-8c3d-2af6ba3ccafc",
   "metadata": {},
   "outputs": [
    {
     "name": "stdout",
     "output_type": "stream",
     "text": [
      "🔍 Token-Based Summary:\n",
      "\n",
      "Mental healthencompassesemotional,psychological, andsocialwell-being, influencingcognition,perception, andbehavior. In 2019, about 970 million people worldwide suffered from a mental disorder, withanxietyanddepressionbeing the most common. Thus, prisons embody another state-provisioned mental hospital. Poor mental health can lead to problems such as the inability to make adequate decisions andsubstance use disorders.[40]\n",
      "Good mental health can improve life quality whereas poor mental health can worsen it. \"[40]Their research also concluded that people who lack emotional expression are inclined to anti-social behaviors (e.g., substance use disorder andalcohol use disorder, physical fights,vandalism), which reflects one's mental health and suppressed emotions.[40]Adults and children who face mental illness may experiencesocial stigma, which can exacerbate the issues.[41]\n",
      "Mental health can be seen as acontinuum, where an individual's mental health may have many different possiblevalues.[42]Mental wellnessis viewed as a positive attribute; this definition of mental health highlightsemotional well-being, the capacity to live a full andcreativelife, and the flexibility to deal with life's inevitable challenges. Positive psychologyis increasingly prominent in mental health. Aholisticmodel of mental health generally includes concepts based uponanthropological,educational,psychological,religious, andsociologicalperspectives. There are also models as theoretical perspectives frompersonality,social,clinical,healthanddevelopmental psychology.[44][45]\n",
      "The tripartite model of mental well-being[42][46]views mental well-being as encompassing three components of emotional well-being, social well-being, andpsychological well-being. Psychiatric social workers aremental health professionalsthat can assist patients and their family members in coping with both mental health issues and various economic or social problems caused by mental illness or psychiatric dysfunctions and to attain improved mental health and well-being. They are employed in both outpatient and inpatient settings of a hospital, nursing homes, state and local governments, substance use clinics, correctional facilities, health care services, private practice, etc.[72]\n",
      "In the United States, social workers provide most of the mental health services. According to government sources, 60 percent of mental health professionals areclinically trained social workers, 10 percent arepsychiatrists, 23 percent arepsychologists, and 5 percent arepsychiatric nurses.[73]\n",
      "Mental health social workers in Japan have professional knowledge of health and welfare and skills essential for person's well-being. When stress becomes overwhelming and prolonged, the risks for mental health problems and medical problems increase.\"[85]Also Mental health has often been understood from the lens of thevulnerability-stress model.[87]In that context, stressful situations may contribute to a preexisting vulnerability to negative mental health outcomes being realized. Increasing unemployment has been shown to have a significant impact on mental health, predominantly depressive disorders.[90]This is an important consideration when reviewing the triggers for mental health disorders in any population survey.[91]According to a 2009 meta-analysis by Paul and Moser, countries with high income inequality and poor unemployment protections experience worse mental health outcomes among the unemployed.[92]\n",
      "Recent findings suggest that dietary patterns may play a role in the development of mental health conditions. Mental health impacts individuals of all ethnic and racial backgrounds across the world. Latino Americans face societal discrimination and report heightened levels of shame when speaking about mental health struggles. The stigma surrounding mental health results in delayed professional care, embarrassment, and social rejection. Poverty and an individual's financial status play a critical role in the challenges of mental health. Low-income individuals and families often experience physical barriers to accessing mental health treatments, significantly increasing the chances of mental health struggles. A study emphasized that using interventions and professional treatments will reduce psychological stress, normalize needing accessible health care, and decrease stigma around mental health regardless of economic background.[114]\n",
      "Rural areas and urban communities encounter differences surrounding the stigma of mental health due to the geography of the location. Urban areas offer far more mental health services and a variety of diverse professional resources. Dense urban populations naturally experience more exposure to mental health advocacy, exhibiting lower levels of stigma towards mental health. Research has shown that there is stigma attached to mental illness.[117]Due to such stigma, individuals may resist labeling and may be driven to respond to mental health diagnoses withdenialism.[118]Family caregivers of individuals with mental disorders may also suffer discrimination or face stigma.[119]\n",
      "Addressing and eliminating the social stigma andperceived stigmaattached to mental illness has been recognized as crucial to education and awareness surrounding mental health issues. The show delves into the protagonist's mental health journey, emphasizing the importance oftherapyand support systems.[131][132]\n",
      "\"The terms mental health promotion and prevention have often been confused. Promotion is defined as intervening tooptimizepositive mental health by addressing determinants of positive mental health (i.e.protective factors) before a specific mental health problem has been identified, with the ultimate goal of improving the positive mental health of the population. Mental health prevention is defined as intervening tominimizemental health problems (i.e.risk factors) by addressing determinants of mental health problems before a specific mental health problem has been identified in the individual, group, or population of focus with the ultimate goal of reducing the number of future mental health problems in the population. \"[133][134]\n",
      "In order to improve mental health, the root of the issue has to be resolved. Focus is increasing onpreventing mental disorders. In 2004, the Mental Health Services Act[142]began to fund marketing initiatives to educate the public on mental health. While social media can benefit mental health, it can also lead to deterioration if not managed properly.[143]Limiting social media intake is beneficial.[144]\n",
      "Studies report that patients in mental health care who can access and read theirElectronic Health Records(EHR) orOpen Notesonline experience increased understanding of their mental health, feeling in control of their care, and enhanced trust in their clinicians. Other common experiences were that shared mental health notes enhancepatient empowermentand augmentpatient autonomy.[145][146][147][148][149][150] Furthermore, recent studies have shown thatsocial mediais an effective way to draw attention to mental health issues. By collecting data fromTwitter, researchers found that social media presence is heightened after an event relating to behavioral health occurs.[151]Researchers continue to find effective ways to use social media to bring more awareness to mental health issues through online campaigns in other sites such asFacebookandInstagram.[152]\n",
      "Mental health care navigation helps to guide patients and families through the fragmented, often confusing mental health industries. Despite the prevalence of mental health disorders remaining unchanged during this period, the number of patients seeking treatment for mental disorders increased threefold.[153] Physical exercisecan improve mental and physical health. Psychotherapyis the general term for the scientific based treatment of mental health issues based on modern medicine. OT services focused on mental health can be provided to persons, groups, and populations[162]across the lifespan and experiencing varying levels of mental health performance. For example, occupational therapy practitioners provide mental health services in school systems, military environments, hospitals, outpatient clinics, and inpatient mental health rehabilitation settings. These types of counselors deliver care based on spiritual, psychological and theological principles.[177]\n",
      "The World Mental Health survey initiative has suggested a plan for countries to redesign their mental health care systems to best allocate resources. A second step could be to do a cross-national comparison of service use and unmet needs in countries with different mental health care systems. Such comparisons can help to uncover optimum financing, national policies, and delivery systems for mental health care. quote needs a citation]\n",
      "Knowledge of how to provide effective emotional mental health care has become imperative worldwide. The number of hospitals dropped from around 300 by over 40 in the 1990s, and finally a Report on Mental Health showed the efficacy of mental health treatment, giving a range of treatments available for patients to choose.[188]\n",
      "However, several critics maintain that deinstitutionalization has, from a mental health point of view, been a thoroughgoing failure. The seriously mentally ill are either homeless, or in prison; in either case (especially the latter), they are getting little or no mental health care. In November 2015, it passed the Health Subcommittee by an 18–12 vote.[190]\n",
      "Historically, mental health challenges were criticized, underprioritized, and limited to the public due to lack of recognition. However, recent developments evolved over time to include quality care settings and accessible resources for individuals needing mental health support. International organizations, such as the World Health Organization, increased funding towards mental health services that specialize in disorders.[191]\n",
      "Systematic differences affected the perception of mental health across countries. East Asian countries are heavily influenced by cultural beliefs, associating mental health issues with weakness. Being heavily underfunded, East Asia has increased mental health awareness by implementing public educational programs and introducing mental health services to children in schools. In African nations, the stigmatization of mental health viewed through a cultural lens and the prioritization of physical health issues cause neglect of health services. Poverty and socioeconomic status increases mental health issues.\n"
     ]
    }
   ],
   "source": [
    "# Generate token-based summary\n",
    "summary_sentences_token = [\n",
    "    sent.text.strip()\n",
    "    for sent, score in zip(doc.sents, token_scores)\n",
    "    if score > cutoff_token\n",
    "]\n",
    "\n",
    "token_summary = ' '.join(summary_sentences_token)\n",
    "\n",
    "print(\"🔍 Token-Based Summary:\\n\")\n",
    "print(token_summary)\n",
    "\n"
   ]
  },
  {
   "cell_type": "markdown",
   "id": "4aa248b8-8d3f-4ad3-99bb-76c191667b20",
   "metadata": {},
   "source": [
    "## 9. Print the polarity score of your summary you generated with the token scores (with an appropriate label). Additionally, print the number of sentences in the summarized article."
   ]
  },
  {
   "cell_type": "code",
   "execution_count": 20,
   "id": "b2bd13f4-d43e-4599-b9e1-c1a04eff1917",
   "metadata": {},
   "outputs": [
    {
     "name": "stdout",
     "output_type": "stream",
     "text": [
      "Token Summary Polarity Score: 0.0009690574576938104\n",
      "Token Summary Sentence Count: 53\n"
     ]
    }
   ],
   "source": [
    "from textblob import TextBlob\n",
    "\n",
    "blob_token_summary = TextBlob(token_summary)\n",
    "\n",
    "print(\"Token Summary Polarity Score:\", blob_token_summary.sentiment.polarity)\n",
    "print(\"Token Summary Sentence Count:\", len(summary_sentences_token))\n"
   ]
  },
  {
   "cell_type": "markdown",
   "id": "722cedc5-4ba9-412f-86fe-e8540bcf1466",
   "metadata": {},
   "source": [
    "## 10. Create a summary of the article by going through every sentence in the article and adding it to an (initially) empty list if its score (based on lemmas) is greater than the cutoff score you identified in question 8. If your loop variable is named sent, you may find it easier to add sent.text.strip() to your list of sentences. Print the summary (I would cleanly generate the summary text by joining the strings in your list together with a space (' '.join(sentence_list))."
   ]
  },
  {
   "cell_type": "code",
   "execution_count": 21,
   "id": "50da993b-b825-41e8-b2ac-72e076d44d6a",
   "metadata": {},
   "outputs": [
    {
     "name": "stdout",
     "output_type": "stream",
     "text": [
      "🔍 Lemma-Based Summary:\n",
      "\n",
      "Mental healthencompassesemotional,psychological, andsocialwell-being, influencingcognition,perception, andbehavior. Thus, prisons embody another state-provisioned mental hospital. Families of patients, advocates, and mental health professionals still call for increase in more well-structured community facilities and treatment programs with a higher quality of long-term inpatient resources and care. With this more structured environment, the United States will continue with more access to mental health care and an increase in the overall treatment of the mentally ill. Poor mental health can lead to problems such as the inability to make adequate decisions andsubstance use disorders.[40]\n",
      "Good mental health can improve life quality whereas poor mental health can worsen it. Positive psychologyis increasingly prominent in mental health. Aholisticmodel of mental health generally includes concepts based uponanthropological,educational,psychological,religious, andsociologicalperspectives. Psychiatric social workers aremental health professionalsthat can assist patients and their family members in coping with both mental health issues and various economic or social problems caused by mental illness or psychiatric dysfunctions and to attain improved mental health and well-being. They are employed in both outpatient and inpatient settings of a hospital, nursing homes, state and local governments, substance use clinics, correctional facilities, health care services, private practice, etc.[72]\n",
      "In the United States, social workers provide most of the mental health services. According to government sources, 60 percent of mental health professionals areclinically trained social workers, 10 percent arepsychiatrists, 23 percent arepsychologists, and 5 percent arepsychiatric nurses.[73]\n",
      "Mental health social workers in Japan have professional knowledge of health and welfare and skills essential for person's well-being. Despite modern treatment and rehabilitation for emotional mental health disorders, \"even economically advantaged societies have competing priorities and budgetary constraints\". When stress becomes overwhelming and prolonged, the risks for mental health problems and medical problems increase.\"[85]Also Mental health has often been understood from the lens of thevulnerability-stress model.[87]In that context, stressful situations may contribute to a preexisting vulnerability to negative mental health outcomes being realized. Attitudes regarding treatments and seeking services are influenced by the impact of society's stigma associated with mental health. Mental health impacts individuals of all ethnic and racial backgrounds across the world. The stigma surrounding mental health results in delayed professional care, embarrassment, and social rejection. Poverty and an individual's financial status play a critical role in the challenges of mental health. Low-income individuals and families often experience physical barriers to accessing mental health treatments, significantly increasing the chances of mental health struggles. A study emphasized that using interventions and professional treatments will reduce psychological stress, normalize needing accessible health care, and decrease stigma around mental health regardless of economic background.[114]\n",
      "Rural areas and urban communities encounter differences surrounding the stigma of mental health due to the geography of the location. Urban areas offer far more mental health services and a variety of diverse professional resources. Dense urban populations naturally experience more exposure to mental health advocacy, exhibiting lower levels of stigma towards mental health. Research has shown that there is stigma attached to mental illness.[117]Due to such stigma, individuals may resist labeling and may be driven to respond to mental health diagnoses withdenialism.[118]Family caregivers of individuals with mental disorders may also suffer discrimination or face stigma.[119]\n",
      "Addressing and eliminating the social stigma andperceived stigmaattached to mental illness has been recognized as crucial to education and awareness surrounding mental health issues. The show delves into the protagonist's mental health journey, emphasizing the importance oftherapyand support systems.[131][132]\n",
      "\"The terms mental health promotion and prevention have often been confused. Promotion is defined as intervening tooptimizepositive mental health by addressing determinants of positive mental health (i.e.protective factors) before a specific mental health problem has been identified, with the ultimate goal of improving the positive mental health of the population. Mental health prevention is defined as intervening tominimizemental health problems (i.e.risk factors) by addressing determinants of mental health problems before a specific mental health problem has been identified in the individual, group, or population of focus with the ultimate goal of reducing the number of future mental health problems in the population. \"[133][134]\n",
      "In order to improve mental health, the root of the issue has to be resolved. Focus is increasing onpreventing mental disorders. In 2004, the Mental Health Services Act[142]began to fund marketing initiatives to educate the public on mental health. While social media can benefit mental health, it can also lead to deterioration if not managed properly.[143]Limiting social media intake is beneficial.[144]\n",
      "Studies report that patients in mental health care who can access and read theirElectronic Health Records(EHR) orOpen Notesonline experience increased understanding of their mental health, feeling in control of their care, and enhanced trust in their clinicians. Other common experiences were that shared mental health notes enhancepatient empowermentand augmentpatient autonomy.[145][146][147][148][149][150] By collecting data fromTwitter, researchers found that social media presence is heightened after an event relating to behavioral health occurs.[151]Researchers continue to find effective ways to use social media to bring more awareness to mental health issues through online campaigns in other sites such asFacebookandInstagram.[152]\n",
      "Mental health care navigation helps to guide patients and families through the fragmented, often confusing mental health industries. Still, care navigators may offer diagnosis and treatment planning. A clear recognition that mental health requires medical intervention was demonstrated in a study by Kessler et al. of the prevalence and treatment of mental disorders from 1990 to 2003 in the United States. Despite the prevalence of mental health disorders remaining unchanged during this period, the number of patients seeking treatment for mental disorders increased threefold.[153] Physical exercisecan improve mental and physical health. Psychotherapyis the general term for the scientific based treatment of mental health issues based on modern medicine. OT services focused on mental health can be provided to persons, groups, and populations[162]across the lifespan and experiencing varying levels of mental health performance. For example, occupational therapy practitioners provide mental health services in school systems, military environments, hospitals, outpatient clinics, and inpatient mental health rehabilitation settings. These types of counselors deliver care based on spiritual, psychological and theological principles.[177]\n",
      "The World Mental Health survey initiative has suggested a plan for countries to redesign their mental health care systems to best allocate resources. A second step could be to do a cross-national comparison of service use and unmet needs in countries with different mental health care systems. Such comparisons can help to uncover optimum financing, national policies, and delivery systems for mental health care. quote needs a citation]\n",
      "Knowledge of how to provide effective emotional mental health care has become imperative worldwide. The coordinated surveys on emotional mental health disorders, their severity, and treatments were implemented in the aforementioned countries. The number of hospitals dropped from around 300 by over 40 in the 1990s, and finally a Report on Mental Health showed the efficacy of mental health treatment, giving a range of treatments available for patients to choose.[188]\n",
      "However, several critics maintain that deinstitutionalization has, from a mental health point of view, been a thoroughgoing failure. The seriously mentally ill are either homeless, or in prison; in either case (especially the latter), they are getting little or no mental health care. However, recent developments evolved over time to include quality care settings and accessible resources for individuals needing mental health support. International organizations, such as the World Health Organization, increased funding towards mental health services that specialize in disorders.[191]\n",
      "Systematic differences affected the perception of mental health across countries. East Asian countries are heavily influenced by cultural beliefs, associating mental health issues with weakness. Being heavily underfunded, East Asia has increased mental health awareness by implementing public educational programs and introducing mental health services to children in schools. In African nations, the stigmatization of mental health viewed through a cultural lens and the prioritization of physical health issues cause neglect of health services. Poverty and socioeconomic status increases mental health issues.\n"
     ]
    }
   ],
   "source": [
    "# Generate lemma-based summary\n",
    "summary_sentences_lemma = [\n",
    "    sent.text.strip()\n",
    "    for sent, score in zip(doc.sents, lemma_scores)\n",
    "    if score > cutoff_lemma\n",
    "]\n",
    "\n",
    "lemma_summary = ' '.join(summary_sentences_lemma)\n",
    "\n",
    "print(\"🔍 Lemma-Based Summary:\\n\")\n",
    "print(lemma_summary)\n",
    "\n"
   ]
  },
  {
   "cell_type": "markdown",
   "id": "6fe12fe2-2e62-44ac-8337-537b113419a6",
   "metadata": {},
   "source": [
    "## 11. Print the polarity score of your summary you generated with the lemma scores (with an appropriate label). Additionally, print the number of sentences in the summarized article."
   ]
  },
  {
   "cell_type": "code",
   "execution_count": 22,
   "id": "27b8d9ab-fc4b-43a9-833f-0f110cc74853",
   "metadata": {},
   "outputs": [
    {
     "name": "stdout",
     "output_type": "stream",
     "text": [
      "Lemma Summary Polarity Score: 0.004388257575757554\n",
      "Lemma Summary Sentence Count: 53\n"
     ]
    }
   ],
   "source": [
    "blob_lemma_summary = TextBlob(lemma_summary)\n",
    "\n",
    "print(\"Lemma Summary Polarity Score:\", blob_lemma_summary.sentiment.polarity)\n",
    "print(\"Lemma Summary Sentence Count:\", len(summary_sentences_lemma))\n",
    "\n"
   ]
  },
  {
   "cell_type": "markdown",
   "id": "8e795b7e-dff3-4af0-af3b-4dedcaeea35f",
   "metadata": {},
   "source": [
    "## 12. Compare your polarity scores of your summaries to the polarity scores of the initial article. Is there a difference? Why do you think that may or may not be?. Answer in this Markdown cell.\n",
    "\n",
    "The polarity score of the original article was approximately 0.017, while the token-based summary had a polarity of 0.00097 and the lemma-based summary had a polarity of 0.00439.\n",
    "\n",
    "Both summaries are less positive than the original article. This is likely because the summarized content includes more objective, information-dense sentences with less emotionally charged or subjective words. Since polarity measures emotional tone, a drop is expected when trimming down to just the most \"frequent word\" sentences, which often emphasize facts over opinions."
   ]
  },
  {
   "cell_type": "markdown",
   "id": "b1e8b3a3-f717-46b7-a9d9-6c492338c552",
   "metadata": {},
   "source": [
    "## 13. Based on your reading of the original article, which summary do you think is better (if there's a difference). Why do you think this might be?\n",
    "\n",
    "I believe the lemma-based summary is slightly better than the token-based one. It seems to capture a broader and more meaningful range of vocabulary due to lemmatization reducing variations like “running” and “ran” vs “run”). As a result, it highlighted slightly more insightful sentences.\n",
    "\n",
    "That said, both summaries had the same sentence count (53), which may suggest the cutoff thresholds could be further tuned for conciseness. Still, the lemma-based version reads more smoothly and preserves the article’s core ideas more effectively"
   ]
  },
  {
   "cell_type": "code",
   "execution_count": null,
   "id": "649b2817-6644-438b-9d1b-09940df8dc3e",
   "metadata": {},
   "outputs": [],
   "source": []
  }
 ],
 "metadata": {
  "kernelspec": {
   "display_name": "Python 3 (ipykernel)",
   "language": "python",
   "name": "python3"
  },
  "language_info": {
   "codemirror_mode": {
    "name": "ipython",
    "version": 3
   },
   "file_extension": ".py",
   "mimetype": "text/x-python",
   "name": "python",
   "nbconvert_exporter": "python",
   "pygments_lexer": "ipython3",
   "version": "3.11.9"
  }
 },
 "nbformat": 4,
 "nbformat_minor": 5
}
