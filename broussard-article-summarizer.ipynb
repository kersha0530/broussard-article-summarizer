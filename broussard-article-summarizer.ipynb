{
 "cells": [
  {
   "cell_type": "markdown",
   "id": "e806cc70-1d5f-4ffa-94f2-eab5b3b193c0",
   "metadata": {},
   "source": [
    "# Web Mining and Applied NLP (44-620)\n",
    "## Final Project: Article Summarizer\n",
    "### Student Name: Kersha Broussard"
   ]
  },
  {
   "cell_type": "code",
   "execution_count": 1,
   "id": "38f07c45-ecef-4791-81c0-b1b6463fb626",
   "metadata": {},
   "outputs": [
    {
     "name": "stdout",
     "output_type": "stream",
     "text": [
      "Package            Version\n",
      "------------------ -----------\n",
      "annotated-types    0.7.0\n",
      "beautifulsoup4     4.13.4\n",
      "blis               1.3.0\n",
      "catalogue          2.0.10\n",
      "certifi            2025.7.14\n",
      "charset-normalizer 3.4.2\n",
      "click              8.2.1\n",
      "cloudpathlib       0.21.1\n",
      "colorama           0.4.6\n",
      "confection         0.1.5\n",
      "cymem              2.0.11\n",
      "html5lib           1.1\n",
      "idna               3.10\n",
      "Jinja2             3.1.6\n",
      "joblib             1.5.1\n",
      "langcodes          3.5.0\n",
      "language_data      1.3.0\n",
      "marisa-trie        1.2.1\n",
      "markdown-it-py     3.0.0\n",
      "MarkupSafe         3.0.2\n",
      "mdurl              0.1.2\n",
      "murmurhash         1.0.13\n",
      "nltk               3.9.1\n",
      "numpy              2.3.1\n",
      "packaging          25.0\n",
      "pip                24.0\n",
      "preshed            3.0.10\n",
      "pydantic           2.11.7\n",
      "pydantic_core      2.33.2\n",
      "Pygments           2.19.2\n",
      "regex              2024.11.6\n",
      "requests           2.32.4\n",
      "rich               14.0.0\n",
      "setuptools         65.5.0\n",
      "shellingham        1.5.4\n",
      "six                1.17.0\n",
      "smart_open         7.3.0.post1\n",
      "soupsieve          2.7\n",
      "spacy              3.8.7\n",
      "spacy-legacy       3.0.12\n",
      "spacy-loggers      1.0.5\n",
      "spacytextblob      5.0.0\n",
      "srsly              2.5.1\n",
      "textblob           0.19.0\n",
      "thinc              8.3.6\n",
      "tqdm               4.67.1\n",
      "typer              0.16.0\n",
      "typing_extensions  4.14.1\n",
      "typing-inspection  0.4.1\n",
      "urllib3            2.5.0\n",
      "wasabi             1.1.3\n",
      "weasel             0.4.1\n",
      "webencodings       0.5.1\n",
      "wrapt              1.17.2\n",
      "All prereqs installed.\n"
     ]
    },
    {
     "name": "stderr",
     "output_type": "stream",
     "text": [
      "\n",
      "[notice] A new release of pip is available: 24.0 -> 25.1.1\n",
      "[notice] To update, run: python.exe -m pip install --upgrade pip\n"
     ]
    }
   ],
   "source": [
    "from collections import Counter\n",
    "import pickle\n",
    "import requests\n",
    "import spacy\n",
    "from bs4 import BeautifulSoup\n",
    "import matplotlib.pyplot as plt\n",
    "\n",
    "!pip list\n",
    "\n",
    "print('All prereqs installed.')"
   ]
  },
  {
   "cell_type": "code",
   "execution_count": null,
   "id": "0de1204d-e5e1-4be0-991a-ef7f587d3ff6",
   "metadata": {},
   "outputs": [],
   "source": []
  }
 ],
 "metadata": {
  "kernelspec": {
   "display_name": "Python 3 (ipykernel)",
   "language": "python",
   "name": "python3"
  },
  "language_info": {
   "codemirror_mode": {
    "name": "ipython",
    "version": 3
   },
   "file_extension": ".py",
   "mimetype": "text/x-python",
   "name": "python",
   "nbconvert_exporter": "python",
   "pygments_lexer": "ipython3",
   "version": "3.11.9"
  }
 },
 "nbformat": 4,
 "nbformat_minor": 5
}
