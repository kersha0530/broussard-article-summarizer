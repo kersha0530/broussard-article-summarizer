{
 "cells": [
  {
   "cell_type": "markdown",
   "id": "e806cc70-1d5f-4ffa-94f2-eab5b3b193c0",
   "metadata": {},
   "source": [
    "# Web Mining and Applied NLP (44-620)\n",
    "## Final Project: Article Summarizer\n",
    "### Student Name: Kersha Broussard"
   ]
  },
  {
   "cell_type": "markdown",
   "id": "c6492102-7c31-42db-8833-931cb1ba1059",
   "metadata": {},
   "source": [
    "Perform the tasks described in the Markdown cells below. When you have completed the assignment make sure your code cells have all been run (and have output beneath them) and ensure you have committed and pushed ALL of your changes to your assignment repository.\n",
    "\n",
    "You should bring in code from previous assignments to help you answer the questions below.\n",
    "\n",
    "Every question that requires you to write code will have a code cell underneath it; you may either write your entire solution in that cell or write it in a python file (.py), then import and run the appropriate code to answer the question.\n",
    "\n",
    "### 1. Find on the internet an article or blog post about a topic that interests you and you are able to get the text for using the technologies we have applied in the course. Get the html for the article and store it in a file (which you must submit with your project)"
   ]
  },
  {
   "cell_type": "code",
   "execution_count": 1,
   "id": "38f07c45-ecef-4791-81c0-b1b6463fb626",
   "metadata": {},
   "outputs": [
    {
     "name": "stdout",
     "output_type": "stream",
     "text": [
      "Package            Version\n",
      "------------------ -----------\n",
      "annotated-types    0.7.0\n",
      "beautifulsoup4     4.13.4\n",
      "blis               1.3.0\n",
      "catalogue          2.0.10\n",
      "certifi            2025.7.14\n",
      "charset-normalizer 3.4.2\n",
      "click              8.2.1\n",
      "cloudpathlib       0.21.1\n",
      "colorama           0.4.6\n",
      "confection         0.1.5\n",
      "cymem              2.0.11\n",
      "html5lib           1.1\n",
      "idna               3.10\n",
      "Jinja2             3.1.6\n",
      "joblib             1.5.1\n",
      "langcodes          3.5.0\n",
      "language_data      1.3.0\n",
      "marisa-trie        1.2.1\n",
      "markdown-it-py     3.0.0\n",
      "MarkupSafe         3.0.2\n",
      "mdurl              0.1.2\n",
      "murmurhash         1.0.13\n",
      "nltk               3.9.1\n",
      "numpy              2.3.1\n",
      "packaging          25.0\n",
      "pip                24.0\n",
      "preshed            3.0.10\n",
      "pydantic           2.11.7\n",
      "pydantic_core      2.33.2\n",
      "Pygments           2.19.2\n",
      "regex              2024.11.6\n",
      "requests           2.32.4\n",
      "rich               14.0.0\n",
      "setuptools         65.5.0\n",
      "shellingham        1.5.4\n",
      "six                1.17.0\n",
      "smart_open         7.3.0.post1\n",
      "soupsieve          2.7\n",
      "spacy              3.8.7\n",
      "spacy-legacy       3.0.12\n",
      "spacy-loggers      1.0.5\n",
      "spacytextblob      5.0.0\n",
      "srsly              2.5.1\n",
      "textblob           0.19.0\n",
      "thinc              8.3.6\n",
      "tqdm               4.67.1\n",
      "typer              0.16.0\n",
      "typing_extensions  4.14.1\n",
      "typing-inspection  0.4.1\n",
      "urllib3            2.5.0\n",
      "wasabi             1.1.3\n",
      "weasel             0.4.1\n",
      "webencodings       0.5.1\n",
      "wrapt              1.17.2\n",
      "All prereqs installed.\n"
     ]
    },
    {
     "name": "stderr",
     "output_type": "stream",
     "text": [
      "\n",
      "[notice] A new release of pip is available: 24.0 -> 25.1.1\n",
      "[notice] To update, run: python.exe -m pip install --upgrade pip\n"
     ]
    }
   ],
   "source": [
    "from collections import Counter\n",
    "import pickle\n",
    "import requests\n",
    "import spacy\n",
    "from bs4 import BeautifulSoup\n",
    "import matplotlib.pyplot as plt\n",
    "\n",
    "!pip list\n",
    "\n",
    "print('All prereqs installed.')"
   ]
  },
  {
   "cell_type": "code",
   "execution_count": 7,
   "id": "999b40dc-bb6f-4be0-b281-30b79c219442",
   "metadata": {},
   "outputs": [
    {
     "ename": "FileNotFoundError",
     "evalue": "[Errno 2] No such file or directory: 'mental_health_article.html'",
     "output_type": "error",
     "traceback": [
      "\u001b[31m---------------------------------------------------------------------------\u001b[39m",
      "\u001b[31mFileNotFoundError\u001b[39m                         Traceback (most recent call last)",
      "\u001b[36mCell\u001b[39m\u001b[36m \u001b[39m\u001b[32mIn[7]\u001b[39m\u001b[32m, line 1\u001b[39m\n\u001b[32m----> \u001b[39m\u001b[32m1\u001b[39m \u001b[38;5;28;01mwith\u001b[39;00m \u001b[38;5;28;43mopen\u001b[39;49m\u001b[43m(\u001b[49m\u001b[33;43m\"\u001b[39;49m\u001b[33;43mmental_health_article.html\u001b[39;49m\u001b[33;43m\"\u001b[39;49m\u001b[43m,\u001b[49m\u001b[43m \u001b[49m\u001b[33;43m\"\u001b[39;49m\u001b[33;43mr\u001b[39;49m\u001b[33;43m\"\u001b[39;49m\u001b[43m,\u001b[49m\u001b[43m \u001b[49m\u001b[43mencoding\u001b[49m\u001b[43m=\u001b[49m\u001b[33;43m\"\u001b[39;49m\u001b[33;43mutf-8\u001b[39;49m\u001b[33;43m\"\u001b[39;49m\u001b[43m)\u001b[49m \u001b[38;5;28;01mas\u001b[39;00m f:\n\u001b[32m      2\u001b[39m     html_content = f.read()\n",
      "\u001b[36mFile \u001b[39m\u001b[32m~\\AppData\\Local\\Programs\\Python\\Python311\\Lib\\site-packages\\IPython\\core\\interactiveshell.py:325\u001b[39m, in \u001b[36m_modified_open\u001b[39m\u001b[34m(file, *args, **kwargs)\u001b[39m\n\u001b[32m    318\u001b[39m \u001b[38;5;28;01mif\u001b[39;00m file \u001b[38;5;129;01min\u001b[39;00m {\u001b[32m0\u001b[39m, \u001b[32m1\u001b[39m, \u001b[32m2\u001b[39m}:\n\u001b[32m    319\u001b[39m     \u001b[38;5;28;01mraise\u001b[39;00m \u001b[38;5;167;01mValueError\u001b[39;00m(\n\u001b[32m    320\u001b[39m         \u001b[33mf\u001b[39m\u001b[33m\"\u001b[39m\u001b[33mIPython won\u001b[39m\u001b[33m'\u001b[39m\u001b[33mt let you open fd=\u001b[39m\u001b[38;5;132;01m{\u001b[39;00mfile\u001b[38;5;132;01m}\u001b[39;00m\u001b[33m by default \u001b[39m\u001b[33m\"\u001b[39m\n\u001b[32m    321\u001b[39m         \u001b[33m\"\u001b[39m\u001b[33mas it is likely to crash IPython. If you know what you are doing, \u001b[39m\u001b[33m\"\u001b[39m\n\u001b[32m    322\u001b[39m         \u001b[33m\"\u001b[39m\u001b[33myou can use builtins\u001b[39m\u001b[33m'\u001b[39m\u001b[33m open.\u001b[39m\u001b[33m\"\u001b[39m\n\u001b[32m    323\u001b[39m     )\n\u001b[32m--> \u001b[39m\u001b[32m325\u001b[39m \u001b[38;5;28;01mreturn\u001b[39;00m \u001b[43mio_open\u001b[49m\u001b[43m(\u001b[49m\u001b[43mfile\u001b[49m\u001b[43m,\u001b[49m\u001b[43m \u001b[49m\u001b[43m*\u001b[49m\u001b[43margs\u001b[49m\u001b[43m,\u001b[49m\u001b[43m \u001b[49m\u001b[43m*\u001b[49m\u001b[43m*\u001b[49m\u001b[43mkwargs\u001b[49m\u001b[43m)\u001b[49m\n",
      "\u001b[31mFileNotFoundError\u001b[39m: [Errno 2] No such file or directory: 'mental_health_article.html'"
     ]
    }
   ],
   "source": [
    "with open(\"mental_health_article.html\", \"r\", encoding=\"utf-8\") as f:\n",
    "    html_content = f.read()\n"
   ]
  },
  {
   "cell_type": "code",
   "execution_count": null,
   "id": "0de1204d-e5e1-4be0-991a-ef7f587d3ff6",
   "metadata": {},
   "outputs": [],
   "source": [
    "from bs4 import BeautifulSoup\n",
    "\n",
    "soup = BeautifulSoup(html_content, \"html.parser\")\n",
    "article_text = soup.get_text()\n"
   ]
  },
  {
   "cell_type": "code",
   "execution_count": null,
   "id": "61d689a0-5a74-4175-af39-625ca5ed4f1e",
   "metadata": {},
   "outputs": [],
   "source": [
    "from bs4 import BeautifulSoup\n",
    "import pickle\n",
    "import spacy\n",
    "from spacytextblob.spacytextblob import SpacyTextBlob\n",
    "\n",
    "# Load NLP pipeline\n",
    "nlp = spacy.load(\"en_core_web_sm\")\n",
    "nlp.add_pipe(\"spacytextblob\")\n",
    "\n",
    "# Load HTML content\n",
    "with open(\"mental_health_article.pkl\", \"rb\") as file:\n",
    "    html_content = pickle.load(file)\n",
    "\n",
    "soup = BeautifulSoup(html_content, \"html.parser\")\n",
    "text = soup.get_text()\n",
    "\n",
    "# Process text\n",
    "doc = nlp(text)\n",
    "print(\"Polarity Score:\", doc._.polarity)\n",
    "print(\"Number of Sentences:\", len(list(doc.sents)))\n"
   ]
  },
  {
   "cell_type": "code",
   "execution_count": null,
   "id": "af4e6159-664f-4423-846a-2c434b854514",
   "metadata": {},
   "outputs": [],
   "source": []
  }
 ],
 "metadata": {
  "kernelspec": {
   "display_name": "Python 3 (ipykernel)",
   "language": "python",
   "name": "python3"
  },
  "language_info": {
   "codemirror_mode": {
    "name": "ipython",
    "version": 3
   },
   "file_extension": ".py",
   "mimetype": "text/x-python",
   "name": "python",
   "nbconvert_exporter": "python",
   "pygments_lexer": "ipython3",
   "version": "3.11.9"
  }
 },
 "nbformat": 4,
 "nbformat_minor": 5
}
